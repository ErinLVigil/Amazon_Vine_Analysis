{
 "cells": [
  {
   "cell_type": "code",
   "execution_count": 1,
   "id": "caeed3e8",
   "metadata": {},
   "outputs": [],
   "source": [
    "import pandas as pd\n",
    "import numpy  as np\n"
   ]
  },
  {
   "cell_type": "code",
   "execution_count": null,
   "id": "ccb46586",
   "metadata": {},
   "outputs": [],
   "source": []
  },
  {
   "cell_type": "code",
   "execution_count": 3,
   "id": "fb0ca2e3",
   "metadata": {},
   "outputs": [
    {
     "data": {
      "text/html": [
       "<div>\n",
       "<style scoped>\n",
       "    .dataframe tbody tr th:only-of-type {\n",
       "        vertical-align: middle;\n",
       "    }\n",
       "\n",
       "    .dataframe tbody tr th {\n",
       "        vertical-align: top;\n",
       "    }\n",
       "\n",
       "    .dataframe thead th {\n",
       "        text-align: right;\n",
       "    }\n",
       "</style>\n",
       "<table border=\"1\" class=\"dataframe\">\n",
       "  <thead>\n",
       "    <tr style=\"text-align: right;\">\n",
       "      <th></th>\n",
       "      <th>review_id</th>\n",
       "      <th>star_rating</th>\n",
       "      <th>helpful_votes</th>\n",
       "      <th>total_votes</th>\n",
       "      <th>vine</th>\n",
       "      <th>verified_purchase</th>\n",
       "    </tr>\n",
       "  </thead>\n",
       "  <tbody>\n",
       "    <tr>\n",
       "      <th>0</th>\n",
       "      <td>R3P2HIOQCIN5ZU</td>\n",
       "      <td>1</td>\n",
       "      <td>0</td>\n",
       "      <td>0</td>\n",
       "      <td>N</td>\n",
       "      <td>Y</td>\n",
       "    </tr>\n",
       "    <tr>\n",
       "      <th>1</th>\n",
       "      <td>R12VVR0WH5Q24V</td>\n",
       "      <td>5</td>\n",
       "      <td>0</td>\n",
       "      <td>0</td>\n",
       "      <td>N</td>\n",
       "      <td>Y</td>\n",
       "    </tr>\n",
       "    <tr>\n",
       "      <th>2</th>\n",
       "      <td>RNCCKB6TV5EEF</td>\n",
       "      <td>4</td>\n",
       "      <td>0</td>\n",
       "      <td>0</td>\n",
       "      <td>N</td>\n",
       "      <td>Y</td>\n",
       "    </tr>\n",
       "    <tr>\n",
       "      <th>3</th>\n",
       "      <td>R2NZXYIVCGB13W</td>\n",
       "      <td>5</td>\n",
       "      <td>0</td>\n",
       "      <td>6</td>\n",
       "      <td>N</td>\n",
       "      <td>Y</td>\n",
       "    </tr>\n",
       "    <tr>\n",
       "      <th>4</th>\n",
       "      <td>R2EQ1TG9IT3OEQ</td>\n",
       "      <td>3</td>\n",
       "      <td>0</td>\n",
       "      <td>0</td>\n",
       "      <td>N</td>\n",
       "      <td>Y</td>\n",
       "    </tr>\n",
       "  </tbody>\n",
       "</table>\n",
       "</div>"
      ],
      "text/plain": [
       "        review_id  star_rating  helpful_votes  total_votes vine  \\\n",
       "0  R3P2HIOQCIN5ZU            1              0            0    N   \n",
       "1  R12VVR0WH5Q24V            5              0            0    N   \n",
       "2   RNCCKB6TV5EEF            4              0            0    N   \n",
       "3  R2NZXYIVCGB13W            5              0            6    N   \n",
       "4  R2EQ1TG9IT3OEQ            3              0            0    N   \n",
       "\n",
       "  verified_purchase  \n",
       "0                 Y  \n",
       "1                 Y  \n",
       "2                 Y  \n",
       "3                 Y  \n",
       "4                 Y  "
      ]
     },
     "execution_count": 3,
     "metadata": {},
     "output_type": "execute_result"
    }
   ],
   "source": [
    "vine_to_load = \"resources/vine_table.csv\"\n",
    "\n",
    "vine_df = pd.read_csv(vine_to_load)\n",
    "\n",
    "vine_df.head()"
   ]
  },
  {
   "cell_type": "code",
   "execution_count": 34,
   "id": "f5a71882",
   "metadata": {},
   "outputs": [
    {
     "data": {
      "text/plain": [
       "27884"
      ]
     },
     "execution_count": 34,
     "metadata": {},
     "output_type": "execute_result"
    }
   ],
   "source": [
    "vote_count_df = vine_df[vine_df[\"total_votes\"]>=20]\n",
    "\n",
    "vote_count_df.count()['review_id']"
   ]
  },
  {
   "cell_type": "code",
   "execution_count": 5,
   "id": "4aff329f",
   "metadata": {
    "scrolled": false
   },
   "outputs": [
    {
     "name": "stderr",
     "output_type": "stream",
     "text": [
      "C:\\Users\\erinv\\anaconda3\\envs\\PythonData\\lib\\site-packages\\ipykernel_launcher.py:1: SettingWithCopyWarning: \n",
      "A value is trying to be set on a copy of a slice from a DataFrame.\n",
      "Try using .loc[row_indexer,col_indexer] = value instead\n",
      "\n",
      "See the caveats in the documentation: https://pandas.pydata.org/pandas-docs/stable/user_guide/indexing.html#returning-a-view-versus-a-copy\n",
      "  \"\"\"Entry point for launching an IPython kernel.\n"
     ]
    },
    {
     "data": {
      "text/html": [
       "<div>\n",
       "<style scoped>\n",
       "    .dataframe tbody tr th:only-of-type {\n",
       "        vertical-align: middle;\n",
       "    }\n",
       "\n",
       "    .dataframe tbody tr th {\n",
       "        vertical-align: top;\n",
       "    }\n",
       "\n",
       "    .dataframe thead th {\n",
       "        text-align: right;\n",
       "    }\n",
       "</style>\n",
       "<table border=\"1\" class=\"dataframe\">\n",
       "  <thead>\n",
       "    <tr style=\"text-align: right;\">\n",
       "      <th></th>\n",
       "      <th>review_id</th>\n",
       "      <th>star_rating</th>\n",
       "      <th>helpful_votes</th>\n",
       "      <th>total_votes</th>\n",
       "      <th>vine</th>\n",
       "      <th>verified_purchase</th>\n",
       "      <th>helpful_percent</th>\n",
       "    </tr>\n",
       "  </thead>\n",
       "  <tbody>\n",
       "    <tr>\n",
       "      <th>218</th>\n",
       "      <td>R37F42INKX7L9K</td>\n",
       "      <td>5</td>\n",
       "      <td>45</td>\n",
       "      <td>49</td>\n",
       "      <td>N</td>\n",
       "      <td>Y</td>\n",
       "      <td>0.918367</td>\n",
       "    </tr>\n",
       "    <tr>\n",
       "      <th>557</th>\n",
       "      <td>R2EHKYNEP8WVSR</td>\n",
       "      <td>5</td>\n",
       "      <td>25</td>\n",
       "      <td>25</td>\n",
       "      <td>N</td>\n",
       "      <td>Y</td>\n",
       "      <td>1.000000</td>\n",
       "    </tr>\n",
       "    <tr>\n",
       "      <th>560</th>\n",
       "      <td>RXOS7BHID0UHL</td>\n",
       "      <td>5</td>\n",
       "      <td>16</td>\n",
       "      <td>27</td>\n",
       "      <td>N</td>\n",
       "      <td>N</td>\n",
       "      <td>0.592593</td>\n",
       "    </tr>\n",
       "    <tr>\n",
       "      <th>909</th>\n",
       "      <td>R33HHGFPB403GM</td>\n",
       "      <td>5</td>\n",
       "      <td>19</td>\n",
       "      <td>21</td>\n",
       "      <td>N</td>\n",
       "      <td>Y</td>\n",
       "      <td>0.904762</td>\n",
       "    </tr>\n",
       "    <tr>\n",
       "      <th>1232</th>\n",
       "      <td>RY9O9XNLP464N</td>\n",
       "      <td>2</td>\n",
       "      <td>19</td>\n",
       "      <td>22</td>\n",
       "      <td>N</td>\n",
       "      <td>Y</td>\n",
       "      <td>0.863636</td>\n",
       "    </tr>\n",
       "    <tr>\n",
       "      <th>...</th>\n",
       "      <td>...</td>\n",
       "      <td>...</td>\n",
       "      <td>...</td>\n",
       "      <td>...</td>\n",
       "      <td>...</td>\n",
       "      <td>...</td>\n",
       "      <td>...</td>\n",
       "    </tr>\n",
       "    <tr>\n",
       "      <th>4366751</th>\n",
       "      <td>R1FALBZOUYCZTD</td>\n",
       "      <td>5</td>\n",
       "      <td>29</td>\n",
       "      <td>31</td>\n",
       "      <td>N</td>\n",
       "      <td>N</td>\n",
       "      <td>0.935484</td>\n",
       "    </tr>\n",
       "    <tr>\n",
       "      <th>4366765</th>\n",
       "      <td>R7M3UQX8B04NM</td>\n",
       "      <td>5</td>\n",
       "      <td>20</td>\n",
       "      <td>21</td>\n",
       "      <td>N</td>\n",
       "      <td>N</td>\n",
       "      <td>0.952381</td>\n",
       "    </tr>\n",
       "    <tr>\n",
       "      <th>4366771</th>\n",
       "      <td>R1UYT6MT2IOAJN</td>\n",
       "      <td>5</td>\n",
       "      <td>23</td>\n",
       "      <td>24</td>\n",
       "      <td>N</td>\n",
       "      <td>N</td>\n",
       "      <td>0.958333</td>\n",
       "    </tr>\n",
       "    <tr>\n",
       "      <th>4366844</th>\n",
       "      <td>R3QRYRJWX0N6H3</td>\n",
       "      <td>4</td>\n",
       "      <td>29</td>\n",
       "      <td>33</td>\n",
       "      <td>N</td>\n",
       "      <td>N</td>\n",
       "      <td>0.878788</td>\n",
       "    </tr>\n",
       "    <tr>\n",
       "      <th>4366886</th>\n",
       "      <td>R20WGBU79NREU</td>\n",
       "      <td>5</td>\n",
       "      <td>14</td>\n",
       "      <td>20</td>\n",
       "      <td>N</td>\n",
       "      <td>N</td>\n",
       "      <td>0.700000</td>\n",
       "    </tr>\n",
       "  </tbody>\n",
       "</table>\n",
       "<p>27009 rows × 7 columns</p>\n",
       "</div>"
      ],
      "text/plain": [
       "              review_id  star_rating  helpful_votes  total_votes vine  \\\n",
       "218      R37F42INKX7L9K            5             45           49    N   \n",
       "557      R2EHKYNEP8WVSR            5             25           25    N   \n",
       "560       RXOS7BHID0UHL            5             16           27    N   \n",
       "909      R33HHGFPB403GM            5             19           21    N   \n",
       "1232      RY9O9XNLP464N            2             19           22    N   \n",
       "...                 ...          ...            ...          ...  ...   \n",
       "4366751  R1FALBZOUYCZTD            5             29           31    N   \n",
       "4366765   R7M3UQX8B04NM            5             20           21    N   \n",
       "4366771  R1UYT6MT2IOAJN            5             23           24    N   \n",
       "4366844  R3QRYRJWX0N6H3            4             29           33    N   \n",
       "4366886   R20WGBU79NREU            5             14           20    N   \n",
       "\n",
       "        verified_purchase  helpful_percent  \n",
       "218                     Y         0.918367  \n",
       "557                     Y         1.000000  \n",
       "560                     N         0.592593  \n",
       "909                     Y         0.904762  \n",
       "1232                    Y         0.863636  \n",
       "...                   ...              ...  \n",
       "4366751                 N         0.935484  \n",
       "4366765                 N         0.952381  \n",
       "4366771                 N         0.958333  \n",
       "4366844                 N         0.878788  \n",
       "4366886                 N         0.700000  \n",
       "\n",
       "[27009 rows x 7 columns]"
      ]
     },
     "execution_count": 5,
     "metadata": {},
     "output_type": "execute_result"
    }
   ],
   "source": [
    "vote_count_df['helpful_percent'] = (vote_count_df['helpful_votes'] / vote_count_df['total_votes'])\n",
    "\n",
    "helpful_count_df = vote_count_df[vote_count_df['helpful_percent']>=.5]\n",
    "\n",
    "helpful_count_df\n"
   ]
  },
  {
   "cell_type": "code",
   "execution_count": 32,
   "id": "13f3296c",
   "metadata": {},
   "outputs": [
    {
     "data": {
      "text/plain": [
       "22"
      ]
     },
     "execution_count": 32,
     "metadata": {},
     "output_type": "execute_result"
    }
   ],
   "source": [
    "vine_paid_df = helpful_count_df[helpful_count_df['vine']== 'Y']\n",
    "\n",
    "vine_paid_df.count()['review_id']"
   ]
  },
  {
   "cell_type": "code",
   "execution_count": 33,
   "id": "63a14893",
   "metadata": {},
   "outputs": [
    {
     "data": {
      "text/plain": [
       "26987"
      ]
     },
     "execution_count": 33,
     "metadata": {},
     "output_type": "execute_result"
    }
   ],
   "source": [
    "vine_unpaid_df = helpful_count_df[helpful_count_df['vine']== 'N']\n",
    "\n",
    "vine_unpaid_df.count()['review_id']"
   ]
  },
  {
   "cell_type": "code",
   "execution_count": 35,
   "id": "6cae7e2c",
   "metadata": {},
   "outputs": [
    {
     "data": {
      "text/plain": [
       "27009"
      ]
     },
     "execution_count": 35,
     "metadata": {},
     "output_type": "execute_result"
    }
   ],
   "source": [
    "helpful_count_df['review_id'].count()"
   ]
  },
  {
   "cell_type": "code",
   "execution_count": 38,
   "id": "bcdbfcc0",
   "metadata": {},
   "outputs": [
    {
     "data": {
      "text/plain": [
       "14488"
      ]
     },
     "execution_count": 38,
     "metadata": {},
     "output_type": "execute_result"
    }
   ],
   "source": [
    "total_five_stars = helpful_count_df[helpful_count_df.star_rating == 5].count()[\"review_id\"]\n",
    "\n",
    "total_five_stars"
   ]
  },
  {
   "cell_type": "code",
   "execution_count": 29,
   "id": "383bc082",
   "metadata": {},
   "outputs": [
    {
     "data": {
      "text/plain": [
       "(13, 22, 59.09090909090909)"
      ]
     },
     "execution_count": 29,
     "metadata": {},
     "output_type": "execute_result"
    }
   ],
   "source": [
    "vine_stars = vine_paid_df[vine_paid_df.star_rating == 5].count()[\"review_id\"]\n",
    "total_paid = vine_paid_df['review_id'].count()\n",
    "\n",
    "percent_paid = (vine_stars/total_paid)*100\n",
    "\n",
    "vine_stars, total_paid, percent_paid"
   ]
  },
  {
   "cell_type": "code",
   "execution_count": 30,
   "id": "63348b7a",
   "metadata": {},
   "outputs": [
    {
     "data": {
      "text/plain": [
       "(14475, 26987, 53.63693630266425)"
      ]
     },
     "execution_count": 30,
     "metadata": {},
     "output_type": "execute_result"
    }
   ],
   "source": [
    "no_vine_stars = vine_unpaid_df[vine_unpaid_df.star_rating == 5].count()[\"review_id\"]\n",
    "total_unpaid = vine_unpaid_df['review_id'].count()\n",
    "\n",
    "percent_unpaid = (no_vine_stars/total_unpaid)*100\n",
    "\n",
    "no_vine_stars, total_unpaid, percent_unpaid"
   ]
  }
 ],
 "metadata": {
  "kernelspec": {
   "display_name": "PythonData",
   "language": "python",
   "name": "pythondata"
  },
  "language_info": {
   "codemirror_mode": {
    "name": "ipython",
    "version": 3
   },
   "file_extension": ".py",
   "mimetype": "text/x-python",
   "name": "python",
   "nbconvert_exporter": "python",
   "pygments_lexer": "ipython3",
   "version": "3.7.13"
  }
 },
 "nbformat": 4,
 "nbformat_minor": 5
}
